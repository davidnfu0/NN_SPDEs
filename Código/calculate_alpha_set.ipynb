{
 "cells": [
  {
   "cell_type": "markdown",
   "id": "c9e7b94d",
   "metadata": {},
   "source": [
    "# En este notebook se calculara y guardará un AlphaSet"
   ]
  },
  {
   "cell_type": "code",
   "execution_count": 3,
   "id": "3e6a52b5",
   "metadata": {},
   "outputs": [],
   "source": [
    "import sys\n",
    "import os\n",
    "import pickle\n",
    "import time\n",
    "\n",
    "sys.path.append(\"src\")\n",
    "from src.AlphaSet import AlphaSet\n",
    "import numpy as np"
   ]
  },
  {
   "cell_type": "markdown",
   "id": "74626206",
   "metadata": {},
   "source": [
    "___"
   ]
  },
  {
   "cell_type": "markdown",
   "id": "9a6987c2",
   "metadata": {},
   "source": [
    "## Parámetros para el AlphaSet\n",
    "- I: Dimensión del Movimiento Browniano\n",
    "- J: Largo de los alphas que generan los Polinomios de Wick\n",
    "- K: Grado máximo de los Polinomios de Wick\n",
    "- n: Cantidad de divisiones de tiempo para el Movimiento Browniano\n",
    "- T: Tiempo total del Movimiento Browniano\n",
    "- NNormals: Cantidad de Normales (Omegas) que se van a generar para entrenar / evaluar el modelo"
   ]
  },
  {
   "cell_type": "code",
   "execution_count": 5,
   "id": "0955daa5",
   "metadata": {},
   "outputs": [],
   "source": [
    "I, J, K, n, T, NNormals = 1, 50, 2, 100, 0.25, 100\n",
    "batch_size = 10  # Para calcular en tandas\n",
    "SEED = 69\n",
    "pkl_file = f\"files/alpha_set_I{I}_J{J}_K{K}_n{n}_T{T}_Normals{NNormals}.pkl\""
   ]
  },
  {
   "cell_type": "markdown",
   "id": "d70af857",
   "metadata": {},
   "source": [
    "___"
   ]
  },
  {
   "cell_type": "markdown",
   "id": "5650bc96",
   "metadata": {},
   "source": [
    "## Generar el AlphaSet"
   ]
  },
  {
   "cell_type": "code",
   "execution_count": 6,
   "id": "0bbd7c00",
   "metadata": {},
   "outputs": [
    {
     "name": "stdout",
     "output_type": "stream",
     "text": [
      "Guardadas 10/100\n",
      "Guardadas 20/100\n",
      "Guardadas 30/100\n",
      "Guardadas 40/100\n",
      "Guardadas 50/100\n",
      "Guardadas 60/100\n",
      "Guardadas 70/100\n",
      "Guardadas 80/100\n",
      "Guardadas 90/100\n",
      "Guardadas 100/100\n",
      "Tiempo total: 1.30 segundos\n",
      "AlphaSet completo ✔\n"
     ]
    }
   ],
   "source": [
    "# Cargar o crear\n",
    "np.random.seed(SEED)\n",
    "if os.path.exists(pkl_file):\n",
    "    with open(pkl_file, \"rb\") as f:\n",
    "        aset = pickle.load(f)\n",
    "else:\n",
    "    aset = AlphaSet(I, J, K, n, T)\n",
    "    aset.calculate_alphas_fast()\n",
    "\n",
    "# Bucle incremental\n",
    "start = time.time()\n",
    "while len(aset.normals) < NNormals:\n",
    "    remaining = NNormals - len(aset.normals)\n",
    "    b = min(batch_size, remaining)\n",
    "    normals = np.random.normal(size=(b, I, J))\n",
    "    aset.add_normals(normals)\n",
    "\n",
    "    # checkpoint\n",
    "    with open(pkl_file, \"wb\") as f:\n",
    "        pickle.dump(aset, f)\n",
    "    print(f\"Guardadas {len(aset.normals)}/{NNormals}\")\n",
    "end = time.time() - start\n",
    "print(f\"Tiempo total: {end:.2f} segundos\")\n",
    "print(\"AlphaSet completo ✔\")"
   ]
  },
  {
   "cell_type": "markdown",
   "id": "10bd675a",
   "metadata": {},
   "source": [
    "___"
   ]
  }
 ],
 "metadata": {
  "kernelspec": {
   "display_name": "DS",
   "language": "python",
   "name": "python3"
  },
  "language_info": {
   "codemirror_mode": {
    "name": "ipython",
    "version": 3
   },
   "file_extension": ".py",
   "mimetype": "text/x-python",
   "name": "python",
   "nbconvert_exporter": "python",
   "pygments_lexer": "ipython3",
   "version": "3.12.4"
  }
 },
 "nbformat": 4,
 "nbformat_minor": 5
}
