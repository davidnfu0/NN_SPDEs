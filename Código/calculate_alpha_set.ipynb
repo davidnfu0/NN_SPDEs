{
 "cells": [
  {
   "cell_type": "markdown",
   "id": "c9e7b94d",
   "metadata": {},
   "source": [
    "# En este notebook se calculara y guardará un AlphaSet"
   ]
  },
  {
   "cell_type": "code",
   "execution_count": 13,
   "id": "3e6a52b5",
   "metadata": {},
   "outputs": [],
   "source": [
    "import sys\n",
    "\n",
    "sys.path.append(\"src\")\n",
    "from AlphaSet import AlphaSet\n",
    "import numpy as np"
   ]
  },
  {
   "cell_type": "markdown",
   "id": "74626206",
   "metadata": {},
   "source": [
    "___"
   ]
  },
  {
   "cell_type": "markdown",
   "id": "9a6987c2",
   "metadata": {},
   "source": [
    "## Parámetros para el AlphaSet\n",
    "- I: Dimensión del Movimiento Browniano\n",
    "- J: Largo de los alphas que generan los Polinomios de Wick\n",
    "- K: Grado máximo de los Polinomios de Wick\n",
    "- n: Cantidad de divisiones de tiempo para el Movimiento Browniano\n",
    "- T: Tiempo total del Movimiento Browniano\n",
    "- NNormals: Cantidad de Normales (Omegas) que se van a generar para entrenar / evaluar el modelo"
   ]
  },
  {
   "cell_type": "code",
   "execution_count": 11,
   "id": "0955daa5",
   "metadata": {},
   "outputs": [],
   "source": [
    "I, J, K, n, T, NNormals = 1, 10, 3, 10, 0.25, 5"
   ]
  },
  {
   "cell_type": "markdown",
   "id": "d70af857",
   "metadata": {},
   "source": [
    "___"
   ]
  },
  {
   "cell_type": "markdown",
   "id": "5650bc96",
   "metadata": {},
   "source": [
    "## Generar el AlphaSet"
   ]
  },
  {
   "cell_type": "code",
   "execution_count": 12,
   "id": "638cea89",
   "metadata": {},
   "outputs": [],
   "source": [
    "np.random.seed(69)\n",
    "alpha_set = AlphaSet(I, J, K, n, T)\n",
    "for _ in range(NNormals):\n",
    "    normal = np.random.normal(size=(I, J))\n",
    "    alpha_set.normals.append(normal)\n",
    "alpha_set.calculate_alphas()\n",
    "alpha_set.calculate_wick_values()\n",
    "alpha_set.calculate_increments()\n",
    "alpha_set.evaluate_paths()\n",
    "alpha_set.save_alpha_set(\"files/alpha_set.pkl\")"
   ]
  },
  {
   "cell_type": "markdown",
   "id": "10bd675a",
   "metadata": {},
   "source": [
    "___"
   ]
  }
 ],
 "metadata": {
  "kernelspec": {
   "display_name": "Python 3",
   "language": "python",
   "name": "python3"
  },
  "language_info": {
   "codemirror_mode": {
    "name": "ipython",
    "version": 3
   },
   "file_extension": ".py",
   "mimetype": "text/x-python",
   "name": "python",
   "nbconvert_exporter": "python",
   "pygments_lexer": "ipython3",
   "version": "3.12.4"
  }
 },
 "nbformat": 4,
 "nbformat_minor": 5
}
